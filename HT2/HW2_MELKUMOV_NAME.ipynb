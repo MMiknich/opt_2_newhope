{
 "cells": [
  {
   "cell_type": "markdown",
   "metadata": {},
   "source": [
    "# Homework 2. {%Surname name%}\n",
    "* Домашку присылать в виде `.pdf` файла на адрес `homework@merkulov.top`. \n",
    "* Дедлайн: **8 мая 23:59**.\n",
    "* Есть несколько способов конвертировать `.ipynb` в `.pdf`. Самый простой - сохранить ноутбук как `.html`, а затем распечатать это в `.pdf` файл, нажав `ctrl + P` в браузере. \n",
    "* Займитесь этим вопросом заранее, чтобы в последний момент не получить из за этого 0 баллов. \n",
    "* Все ячейки должны быть запущены, а графики построены.\n"
   ]
  },
  {
   "cell_type": "markdown",
   "metadata": {
    "heading_collapsed": true
   },
   "source": [
    "## Problem 1. Обо всем по чуть чуть. Деревня Хоббитцов.\n",
    "\n",
    "[Источник](https://courses.cs.ut.ee/MTAT.03.227/2015_spring/uploads/Main/home-exercises-5.pdf)\n"
   ]
  },
  {
   "cell_type": "code",
   "execution_count": 1,
   "metadata": {
    "hidden": true
   },
   "outputs": [],
   "source": [
    "%matplotlib inline\n",
    "import numpy as np\n",
    "from matplotlib import pyplot as plt\n",
    "import matplotlib as mpl\n",
    "import seaborn as sns\n",
    "sns.set()"
   ]
  },
  {
   "cell_type": "markdown",
   "metadata": {
    "hidden": true
   },
   "source": [
    "Для Вашего удобства ниже написана функция, которая рисует небольшую одномерную деревню."
   ]
  },
  {
   "cell_type": "code",
   "execution_count": 2,
   "metadata": {
    "hidden": true
   },
   "outputs": [],
   "source": [
    "def plot_village(coordinates, l=1):\n",
    "    # Checking, that all the coordinates are less than l\n",
    "    assert (coordinates <= l).all(), 'All the houses should be in a village'\n",
    "    \n",
    "    # Draw horizontal line\n",
    "    plt.hlines(0, 0, l)\n",
    "    plt.xlim(0, l)\n",
    "    plt.ylim(-0.5, 0.5)\n",
    "    \n",
    "    # Draw house points\n",
    "    y = np.zeros(np.shape(coordinates))\n",
    "    plt.title('The Hobbit Village')\n",
    "    plt.plot(coordinates,y,'o',ms = 10)\n",
    "    plt.axis('off')\n",
    "    plt.xlabel('Coordinates')\n",
    "    fig = plt.gcf()\n",
    "    fig.set_size_inches(15, 1)\n",
    "    plt.show()"
   ]
  },
  {
   "cell_type": "code",
   "execution_count": 5,
   "metadata": {
    "hidden": true
   },
   "outputs": [
    {
     "data": {
      "image/png": "[encoded data removed]",
      "text/plain": [
       "<matplotlib.figure.Figure at 0x20b67deb390>"
      ]
     },
     "metadata": {},
     "output_type": "display_data"
    }
   ],
   "source": [
    "N = 25\n",
    "l = 1\n",
    "x = np.random.rand(N)*l\n",
    "    \n",
    "plot_village(x, l)"
   ]
  },
  {
   "cell_type": "markdown",
   "metadata": {
    "hidden": true
   },
   "source": [
    "Жители одномерной деревни хотят подключиться к интернету, для этого им необходимо поставить центральную обслуживающую станцию, от которой кабель будет тянуться ко всем домам деревни. Пусть цена кабеля, который надо тянуть от станции до каждого дома независимо, определяется некоторой функцией $p(d)$. Тогда ясно, что деревне придется заплатить следующую сумму за доступ в мировую паутину:\n",
    "$$\n",
    "P(w, x) = \\sum\\limits_{i=1}^N p(d_i) = \\sum\\limits_{i=1}^N p(|w - x_i|)\n",
    "$$\n",
    "Здесь $w$ - координата станции, $x_i$ - координата i-ого домика."
   ]
  },
  {
   "cell_type": "markdown",
   "metadata": {
    "heading_collapsed": true,
    "hidden": true
   },
   "source": [
    "### 🤔\n",
    "Найдите аналитически оптимальную позицию $w^*$, доставляющую минимум функции $P(w, x)$ при условии, что $p(d) = d^2$"
   ]
  },
  {
   "cell_type": "markdown",
   "metadata": {
    "hidden": true
   },
   "source": []
  },
  {
   "cell_type": "markdown",
   "metadata": {
    "heading_collapsed": true,
    "hidden": true
   },
   "source": [
    "### 🤔\n",
    "Напишите функцию `P`, которая берет на вход позицию станции $w$ и вектор координат $x$ и возвращает значение функции потерь $P$."
   ]
  },
  {
   "cell_type": "code",
   "execution_count": 4,
   "metadata": {
    "hidden": true
   },
   "outputs": [],
   "source": [
    "def P(w, x):\n",
    "    return P"
   ]
  },
  {
   "cell_type": "markdown",
   "metadata": {
    "hidden": true
   },
   "source": [
    "Постройте значение функции потерь для значения координат от $0$ до $l$."
   ]
  },
  {
   "cell_type": "code",
   "execution_count": null,
   "metadata": {
    "hidden": true
   },
   "outputs": [],
   "source": [
    "w = np.linspace(0,l)\n",
    "p = [P(w_i, x) for w_i in w]\n",
    "plt.title('Loss function')\n",
    "plt.xlabel('Router position')\n",
    "plt.plot(w,p)\n",
    "fig = plt.gcf()\n",
    "fig.set_size_inches(12, 5)"
   ]
  },
  {
   "cell_type": "markdown",
   "metadata": {
    "heading_collapsed": true,
    "hidden": true
   },
   "source": [
    "### 🤔\n",
    "Напишите функцию `dP`, которая берет на вход позицию станции $w$ и вектор координат $x$ и возвращает значение градиента функции потерь $\\nabla P$ как функции от $w$."
   ]
  },
  {
   "cell_type": "code",
   "execution_count": 5,
   "metadata": {
    "hidden": true
   },
   "outputs": [],
   "source": [
    "def dP(w, x):\n",
    "    \n",
    "    return dP"
   ]
  },
  {
   "cell_type": "markdown",
   "metadata": {
    "hidden": true
   },
   "source": [
    "Постройте значение функции `dP` для значения координат от $0$ до $l$. Какая точка на графике представляет особый интерес? Почему?"
   ]
  },
  {
   "cell_type": "code",
   "execution_count": null,
   "metadata": {
    "hidden": true
   },
   "outputs": [],
   "source": [
    "w = np.linspace(0,l)\n",
    "dp = [dP(w_i, x) for w_i in w]\n",
    "plt.title('Gradient of the loss function')\n",
    "plt.xlabel('Router position')\n",
    "plt.plot(w,dp)\n",
    "fig = plt.gcf()\n",
    "fig.set_size_inches(12, 5)"
   ]
  },
  {
   "cell_type": "markdown",
   "metadata": {
    "heading_collapsed": true,
    "hidden": true
   },
   "source": [
    "### 🤔\n",
    "Напишите функцию `gradient_descent`, которая возвращает значение $w_k$ через фиксированное число шагов. Длина функции не должна превышать 5 строчек кода.\n",
    "\n",
    "$$\n",
    "w_{k+1} = w_k - \\mu \\nabla P(w_k)\n",
    "$$"
   ]
  },
  {
   "cell_type": "code",
   "execution_count": 6,
   "metadata": {
    "hidden": true
   },
   "outputs": [],
   "source": [
    "def gradient_descent(P, dP, w0, mu, Nsteps):\n",
    "  \n",
    "\n",
    "\n",
    "    return w"
   ]
  },
  {
   "cell_type": "markdown",
   "metadata": {
    "heading_collapsed": true,
    "hidden": true
   },
   "source": [
    "### 🤔\n",
    "Модифицируйте функцию `gradient_descent` так, чтобы она возвращала всю траекторию оптимизации (все значения $w_k$). Постройте графики $P(w_k ,x)$ для $\\mu = 0.01, 0.1, 0.15, 0.19, 0.20, 0.21$ . Сделайте выводы."
   ]
  },
  {
   "cell_type": "code",
   "execution_count": 7,
   "metadata": {
    "hidden": true
   },
   "outputs": [],
   "source": [
    "def gradient_descent(P, dP, w0, mu, Nsteps):\n",
    "\n",
    "    return trajectory"
   ]
  },
  {
   "cell_type": "markdown",
   "metadata": {
    "heading_collapsed": true,
    "hidden": true
   },
   "source": [
    "### 🤔\n",
    "Напишите функцию `ddP`, которая берет на вход позицию станции $w$ и вектор координат $x$ и возвращает значение гессиана функции потерь $\\nabla^2 P$ как функции от $w$."
   ]
  },
  {
   "cell_type": "code",
   "execution_count": 8,
   "metadata": {
    "hidden": true
   },
   "outputs": [],
   "source": [
    "def ddP(w, x):\n",
    "\n",
    "    return ddP"
   ]
  },
  {
   "cell_type": "markdown",
   "metadata": {
    "hidden": true
   },
   "source": [
    "Постройте значение функции `ddP` для значения координат от $0$ до $l$."
   ]
  },
  {
   "cell_type": "code",
   "execution_count": null,
   "metadata": {
    "hidden": true
   },
   "outputs": [],
   "source": []
  },
  {
   "cell_type": "markdown",
   "metadata": {
    "heading_collapsed": true,
    "hidden": true
   },
   "source": [
    "### 🤔\n",
    "Напишите функцию `newton_descent`, которая возвращает всю оптимизационную траекторию $(w_k)$ через фиксированное число шагов."
   ]
  },
  {
   "cell_type": "code",
   "execution_count": 13,
   "metadata": {
    "hidden": true
   },
   "outputs": [],
   "source": [
    "def newton_descent(P, dP, ddP, w0, Nsteps):\n",
    "\n",
    "    return trajectory"
   ]
  },
  {
   "cell_type": "markdown",
   "metadata": {
    "hidden": true
   },
   "source": [
    "Сравните траекторию метода с траекторией градиентного спуска. Исследуйте поведение метода Ньютона в зависимости от разной стартовой точки $w_0$."
   ]
  },
  {
   "cell_type": "markdown",
   "metadata": {
    "hidden": true
   },
   "source": [
    "Давайте нарисуем оптимальное положение роутера в деревне хоббитцов:"
   ]
  },
  {
   "cell_type": "code",
   "execution_count": 9,
   "metadata": {
    "hidden": true
   },
   "outputs": [],
   "source": [
    "def plot_village_with_internet(coordinates, router_coordinates, l=1):\n",
    "    # Checking, that all the coordinates are less than l\n",
    "    assert (np.array(coordinates) <= l).all(), 'All the houses should be in the village'\n",
    "    assert (np.array(router_coordinates) <= l).all(), 'Router should be in the village'\n",
    "    \n",
    "    # Draw horizontal line\n",
    "    plt.hlines(0, 0, l)\n",
    "    plt.xlim(0, l)\n",
    "    plt.ylim(-0.5, 0.5)\n",
    "    \n",
    "    # Draw house points\n",
    "    y = np.zeros(np.shape(coordinates))\n",
    "    plt.title('Modern Hobbit Village')\n",
    "    plt.plot(coordinates,y,'o',ms = 10)  \n",
    "    \n",
    "    # Draw routers\n",
    "    y = np.zeros(np.shape(router_coordinates))\n",
    "    plt.plot(router_coordinates,y,'*',ms = 50)\n",
    "    plt.axis('off')\n",
    "    plt.xlabel('Coordinates')\n",
    "    fig = plt.gcf()\n",
    "    fig.set_size_inches(15, 1)\n",
    "    plt.show()"
   ]
  },
  {
   "cell_type": "code",
   "execution_count": 16,
   "metadata": {
    "hidden": true
   },
   "outputs": [
    {
     "data": {
      "image/png": "[encoded data removed]",
      "text/plain": [
       "<matplotlib.figure.Figure at 0x238d9a244a8>"
      ]
     },
     "metadata": {},
     "output_type": "display_data"
    }
   ],
   "source": [
    "N = 6\n",
    "l = 1\n",
    "x = np.random.rand(N)*l\n",
    "\n",
    "w_ = newton_descent(P, dP, ddP, 0, 2)[-1]\n",
    "    \n",
    "plot_village_with_internet(x, w_, l)"
   ]
  },
  {
   "cell_type": "markdown",
   "metadata": {
    "heading_collapsed": true,
    "hidden": true
   },
   "source": [
    "### 🤔\n",
    "Напишите функцию `stochastic_gradient_descent`, которая возвращает всю оптимизационную траекторию $(w_k)$ через фиксированное число шагов по методу стохастического градиентного спуска (градиент считается не по всем домикам деревни хоббитцов, а по случайному подмножеству)"
   ]
  },
  {
   "cell_type": "code",
   "execution_count": 10,
   "metadata": {
    "hidden": true
   },
   "outputs": [],
   "source": [
    "# Stochastic Gradient\n",
    "def dP_sigma(w, x, p=0.5):\n",
    "    random_mask = np.random.binomial(1, p, x.shape)\n",
    "    \n",
    "    return dP\n",
    "\n",
    "def stochastic_gradient_descent(P, dP_sigma, w0, mu, Nsteps):\n",
    "\n",
    "    return trajectory"
   ]
  },
  {
   "cell_type": "markdown",
   "metadata": {
    "hidden": true
   },
   "source": [
    "Увеличьте число домиков до $50$, сравните траектории алгоритмов градиентного и стохастического градиентного спуска. Сравните их.\n",
    "\n",
    "Hint: придется изменить размер шага, чтобы работало:)"
   ]
  },
  {
   "cell_type": "code",
   "execution_count": null,
   "metadata": {
    "hidden": true
   },
   "outputs": [],
   "source": []
  },
  {
   "cell_type": "markdown",
   "metadata": {
    "hidden": true
   },
   "source": [
    "Только-только жизнь обитателей одномерной деревни наладилась, как роскомнадзор (казалось бы, какое ему дело) сказал, что цена на кабель должна считаться совсем по другой формуле: \n",
    "$$\n",
    "p(d) = |d|\n",
    "$$"
   ]
  },
  {
   "cell_type": "markdown",
   "metadata": {
    "heading_collapsed": true,
    "hidden": true
   },
   "source": [
    "### 🤔\n",
    "Напишите функции `P`, `dP`, `ddP` в новых реалиях. Постройте их для заданного $x$ при различных $w$."
   ]
  },
  {
   "cell_type": "code",
   "execution_count": 19,
   "metadata": {
    "hidden": true
   },
   "outputs": [],
   "source": [
    "def P(w, x):\n",
    "    \n",
    "    return P\n",
    "\n",
    "def dP(w, x):\n",
    "    \n",
    "    return dP\n",
    "\n",
    "def ddP(w, x):\n",
    "    \n",
    "    return ddP"
   ]
  },
  {
   "cell_type": "code",
   "execution_count": null,
   "metadata": {
    "hidden": true
   },
   "outputs": [],
   "source": [
    "w = np.linspace(0,l)\n",
    "\n",
    "p = [P(w_i, x) for w_i in w]\n",
    "dp = [dP(w_i, x) for w_i in w]\n",
    "ddp = [ddP(w_i, x) for w_i in w]\n",
    "\n",
    "f, (ax1, ax2, ax3) = plt.subplots(1, 3, sharey=True)\n",
    "ax1.plot(w,p)\n",
    "ax1.set_title('P')\n",
    "ax2.plot(w,dp)\n",
    "ax2.set_title('dP')\n",
    "ax3.plot(w,ddp)\n",
    "ax3.set_title('ddP')\n",
    "ax2.set_xlabel('Router position')\n",
    "f.set_size_inches(18, 5)\n",
    "f.suptitle('Fuck RKN')\n",
    "plt.show()"
   ]
  },
  {
   "cell_type": "markdown",
   "metadata": {
    "hidden": true
   },
   "source": [
    "Найдите оптимальное значение $w^*$ в новых реалиях."
   ]
  },
  {
   "cell_type": "markdown",
   "metadata": {
    "hidden": true
   },
   "source": []
  },
  {
   "cell_type": "markdown",
   "metadata": {
    "heading_collapsed": true,
    "hidden": true
   },
   "source": [
    "### 🤔\n",
    "Постройте траекторию градиентного спуска в новых реалиях. Что Вы скажете роскомнадзору, когда он потребует решать эту задачу методом Ньютона (потому что они где то слышали, что надо использовать лучшие мировые практики)?"
   ]
  },
  {
   "cell_type": "code",
   "execution_count": null,
   "metadata": {
    "hidden": true,
    "scrolled": true
   },
   "outputs": [],
   "source": []
  },
  {
   "cell_type": "markdown",
   "metadata": {
    "heading_collapsed": true,
    "hidden": true
   },
   "source": [
    "### 🤔\n",
    "Реализуйте функции `dP_sigma`, `stochastic_gradient_descent` в новых реалиях."
   ]
  },
  {
   "cell_type": "code",
   "execution_count": 22,
   "metadata": {
    "hidden": true
   },
   "outputs": [],
   "source": [
    "def dP_sigma(w, x, p=0.1):\n",
    "    random_mask = np.random.binomial(1, p, x.shape)\n",
    "    \n",
    "    return dP\n",
    "\n",
    "def stochastic_gradient_descent(P, dP_sigma, w0, mu, Nsteps):\n",
    "\n",
    "    return trajectory"
   ]
  },
  {
   "cell_type": "markdown",
   "metadata": {
    "hidden": true
   },
   "source": [
    "Постройте траектории градиентного и стохастического градиентного спуска. Поэксперементируйте с уровнем шума в стох. градиенте путем изменения доли домиков, по которым считается градиент ($p$). Проведите эксперименты для большого числа домиков (от $10000$) и сравните результаты."
   ]
  },
  {
   "cell_type": "code",
   "execution_count": null,
   "metadata": {
    "hidden": true
   },
   "outputs": [],
   "source": [
    "N = 50000\n",
    "l = 1\n",
    "x = np.random.rand(N)*l\n",
    "mu = ...\n",
    "\n",
    "list_gr = gradient_descent(P, dP, 0, mu, 100)\n",
    "P_gr =[P(w_, x) for w_ in list_gr]\n",
    "\n",
    "list_sgd = stochastic_gradient_descent(P, dP_sigma, 0, mu, 100)\n",
    "P_sgd =[P(w_, x) for w_ in list_sgd]\n",
    "\n",
    "plt.title('Stochastic vs Vanilla RKN Gradient Descent')\n",
    "\n",
    "plt.plot(P_sgd, label='SGD')\n",
    "plt.plot(P_gr, label='GD')\n",
    "plt.legend()\n",
    "fig = plt.gcf()\n",
    "fig = plt.gcf()\n",
    "fig.set_size_inches(12, 5)"
   ]
  },
  {
   "cell_type": "markdown",
   "metadata": {
    "hidden": true
   },
   "source": [
    "Дела шли своим чередом в деревне хоббитцов. Однако, как и всякое процветающее общество (коим без всяких сомнений себя считали хоббитцы), они решили, что их количество увеличилось достаточно для того, чтобы поставить второй датацетр (роутер) и проводить интернет к каждому дому от ближайшего к нему роутера.\n",
    "$$\n",
    "P(w_1, w_2, x) = \\sum\\limits_{i=1}^N p(d_i) = \\sum\\limits_{i=1}^N p\\left(\\min\\left(\\left|w_1 - x_i\\right|, \\left|w_2 - x_i\\right|\\right)\\right)\n",
    "$$"
   ]
  },
  {
   "cell_type": "markdown",
   "metadata": {
    "heading_collapsed": true,
    "hidden": true
   },
   "source": [
    "### 🤔\n",
    "Напишите функции `P`, `dP` в новых реалиях. Постройте их для заданного $x$ при различных $w_1, w_2$. Помните, что градиент в этом случае представляет собой двумерный вектор."
   ]
  },
  {
   "cell_type": "code",
   "execution_count": 24,
   "metadata": {
    "hidden": true
   },
   "outputs": [],
   "source": [
    "def P(w1, w2, x):\n",
    "    return P\n",
    "\n",
    "def dP(w1, w2, x):\n",
    "    return dP"
   ]
  },
  {
   "cell_type": "markdown",
   "metadata": {
    "hidden": true
   },
   "source": [
    "Постройте графики $P(w_1, w_2), \\nabla P(w_1, w_2)$ для различных значений $N$. Прокомментируйте, что происходит по мере увеличения $N$."
   ]
  },
  {
   "cell_type": "code",
   "execution_count": null,
   "metadata": {
    "hidden": true
   },
   "outputs": [],
   "source": [
    "N = 100\n",
    "l = 1\n",
    "x = np.random.rand(N)*l\n",
    "\n",
    "w1 = np.linspace(0,l)\n",
    "w2 = np.linspace(0,l)\n",
    "\n",
    "p = np.zeros([w1.shape[0], w1.shape[0]])\n",
    "dp = np.zeros([w1.shape[0], w1.shape[0]])\n",
    "\n",
    "i = 0\n",
    "for w1_ in w1:\n",
    "    j = 0\n",
    "    for w2_ in w2:\n",
    "        p[i][j]  =  P(w1_, w2_, x)\n",
    "        dp[i][j] = np.linalg.norm(dP(w1_, w2_, x))\n",
    "        j += 1\n",
    "    i += 1\n",
    "\n",
    "f, (ax1, ax2) = plt.subplots(1, 2, sharey=True)\n",
    "c1 = ax1.contourf(w1, w2, p, cmap=\"viridis\")\n",
    "plt.colorbar(c1, ax = ax1)\n",
    "ax1.set_title('P')\n",
    "c2 = ax2.contourf(w1, w2, dp, cmap=\"viridis\")\n",
    "plt.colorbar(c2, ax = ax2)\n",
    "ax2.set_title('dP')\n",
    "\n",
    "f.set_size_inches(12, 5)\n",
    "f.suptitle('2 routers')\n",
    "plt.show()"
   ]
  },
  {
   "cell_type": "markdown",
   "metadata": {
    "heading_collapsed": true,
    "hidden": true
   },
   "source": [
    "### 🤔\n",
    "Напишите функцию `gradient_descent`, которая возвращает всю оптимизационную траекторию $(w_k)$ через фиксированное число шагов и рисует процесс на графиках $P$ и $\\nabla P$, что были выше (анимацию)."
   ]
  },
  {
   "cell_type": "code",
   "execution_count": null,
   "metadata": {
    "hidden": true,
    "scrolled": true
   },
   "outputs": [],
   "source": [
    "def gradient_descent(P, dP_sigma, w0, mu, Nsteps):\n",
    "    \n",
    "    return trajectory"
   ]
  },
  {
   "cell_type": "markdown",
   "metadata": {
    "heading_collapsed": true,
    "hidden": true
   },
   "source": [
    "### 🤔\n",
    "Напишите функцию `stochastic_gradient_descent`, которая возвращает всю оптимизационную траекторию $(w_k)$ метода стохастического градиентного спуска через фиксированное число шагов и рисует процесс на графиках $P$ и $\\nabla P$, что были выше (анимацию)."
   ]
  },
  {
   "cell_type": "code",
   "execution_count": 11,
   "metadata": {
    "hidden": true
   },
   "outputs": [],
   "source": [
    "def stochastic_gradient_descent(P, dP_sigma, w0, mu, Nsteps):\n",
    "    \n",
    "    return trajectory"
   ]
  },
  {
   "cell_type": "markdown",
   "metadata": {
    "heading_collapsed": true,
    "hidden": true
   },
   "source": [
    "### 🤔\n",
    "На практике Вам не так часто нужно будет писать свой собстенный алгоритм оптимизации. Решите поставленную выше задачу (2 станции, роскомнадзоровская норма) любым алгоритмом оптимизации из любой библиотеки Python. (cvxpy, scipy и т.д.)\n",
    "Нарисуйте такие же анимашки."
   ]
  },
  {
   "cell_type": "code",
   "execution_count": null,
   "metadata": {
    "hidden": true
   },
   "outputs": [],
   "source": [
    "N = 1000\n",
    "l = 1\n",
    "x = np.random.rand(N)*l\n"
   ]
  },
  {
   "cell_type": "markdown",
   "metadata": {
    "hidden": true
   },
   "source": [
    "Одномерная деревня научилась решать свои проблемы при любом числе и раположении жителей в мгновение ока. Улучшив качество интернета, хоббитцы смотрели онлайн-курсы и мемесы и жили припеваючи. Как Вы могли догадаться, роскомнадзору это не очень по душе. Вот тут то они выкатили новое требование о том, что дата-центры (роутеры) должны стоять не более, чем на расстоянии половины деревни друг от друга, чтобы силовым структурам было легче собирать информацию о том, как используют интернет жители деревни Одномерново.\n",
    "\n",
    "$$\n",
    "\\left|w_1 - w_2\\right| \\leq \\dfrac{l}{2}\n",
    "$$"
   ]
  },
  {
   "cell_type": "markdown",
   "metadata": {
    "heading_collapsed": true,
    "hidden": true
   },
   "source": [
    "### 🤔\n",
    "Нарисуйте на плоскости допустимое множество решений. Выпукло ли оно?"
   ]
  },
  {
   "cell_type": "markdown",
   "metadata": {
    "heading_collapsed": true,
    "hidden": true
   },
   "source": [
    "### 🤔\n",
    "Напишите функцию `conditional_SGD`, которая возвращает всю оптимизационную траекторию $(w_k)$ метода условного стохастического градиентного спуска через фиксированное число шагов и рисует процесс на графиках $P$ и $\\nabla P$, что были выше (анимацию).\n",
    "\n",
    "Метод условного градиентного спуска заключается в том, чтобы делать градиентный шаг, а после этого проверять принадлежность полученной точки целевому множеству. Если она ему принадлежит, то алгоритм продолжается, иначе делается ортогональная проекция на целевое множество."
   ]
  },
  {
   "cell_type": "code",
   "execution_count": null,
   "metadata": {
    "hidden": true
   },
   "outputs": [],
   "source": [
    "def conditional_SGD(P, dP_sigma, w0, mu, Nsteps):\n",
    "    \n",
    "    return trajectory"
   ]
  },
  {
   "cell_type": "markdown",
   "metadata": {
    "hidden": true
   },
   "source": [
    "### 🤔\n",
    "Напишите функцию `multi_newton`, которая реализует решение двумерной задачи с $p(d) = d^3$ методом Ньютона и возвращает траекторию работы алгоритма. Сравните результаты для данной задачи с методом стохастического градиентного спуска."
   ]
  },
  {
   "cell_type": "code",
   "execution_count": null,
   "metadata": {
    "hidden": true
   },
   "outputs": [],
   "source": [
    "def multi_newton(P, dP, ddP, w0, Nsteps):\n",
    "    w = w0\n",
    "    w_ = []\n",
    "    for i in range(Nsteps):\n",
    "        w_.append(w)\n",
    "        w -= dP(w, x)/ddP(w,x)\n",
    "    w_.append(w)\n",
    "    return w_"
   ]
  },
  {
   "cell_type": "markdown",
   "metadata": {
    "heading_collapsed": true
   },
   "source": [
    "## Problem 2. Adaptive metrics methods"
   ]
  },
  {
   "cell_type": "markdown",
   "metadata": {
    "hidden": true
   },
   "source": [
    "В этом задании Вам предлагается погрузиться в специфику тестирования алгоритмов оптимизации на одинаковых классах задач на примере методов адаптивной метрики (Newton, Quasi Newton)\n",
    "\n",
    "Приведем стандартные обозначения.\n",
    "\n",
    "### Афинная инвариантность\n",
    "\n",
    "#### Метод Ньютона:\n",
    "\n",
    "$$\n",
    "x_{k+1} = x_k - \\left[ f_{xx}(x_k)\\right]^{-1}\\nabla f(x_k) = x_k - \\left[ H(x_k)\\right]^{-1}\\nabla f(x_k) = x_k - B(x_k)\\nabla f(x_k)\n",
    "$$\n",
    "\n",
    "#### SR-1 (symmetric rank one) update\n",
    "Для квазиньютоновского метода использует следующую формулу для уточнения **обратного** гессиана:\n",
    "\n",
    "$$\n",
    "B_{k+1} = B_k + \\dfrac{(\\Delta x_k - B_k \\Delta y_k)(\\Delta x_k - B_k \\Delta y_k)^\\top}{\\langle \\Delta x_k - B_k \\Delta y_k , \\Delta y_k\\rangle},  \\quad \\Delta y_k = \\nabla f(x_{k+1}) - \\nabla f(x_k), \\quad \\Delta x_k = x_{k+1} - x_k\n",
    "$$\n",
    "\n",
    "$$\n",
    "x_{k+1} = x_k - B_k \\nabla f (x_k)\n",
    "$$\n",
    "\n",
    "Оценка гессиана при этом:\n",
    "\n",
    "$$\n",
    "H_{k+1}=H_{k}+\\frac {(\\Delta y_k-H_k \\Delta x_k) (\\Delta y_k-H_k \\Delta x_k)^\\top}{(\\Delta y_k-H_k \\Delta x_k)^\\top \\Delta x_k}\n",
    "$$\n",
    "\n",
    "#### BFGS\n",
    "использует следующую формулу для уточнения **обратного** гессиана:\n",
    "\n",
    "$$\n",
    "B_{k+1} = B_k + \\frac{(\\Delta x_k^{\\top}\\Delta y_k+\\Delta y_k^{\\top}  B_k \\Delta y_k)(\\Delta x_k \\Delta x_k^{\\top})}{(\\Delta x_k^{\\top} \\Delta y_k)^2} - \\frac{ B_k \\Delta y_k \\Delta x_k^{\\top} + \\Delta x_k \\Delta y_k^{\\top} B_k}{\\Delta x_k^{\\top} \\Delta y_k}.\n",
    "$$\n",
    "\n",
    "Оценка гессиана при этом:\n",
    "\n",
    "$$\n",
    "H_{k+1} = H_k + \\frac{\\Delta y_k \\Delta y_k^{\\top}}{\\Delta y_k^{\\top} \\Delta x_k} - \\frac{H_k \\Delta x_k \\Delta x_k^{\\top} H_k^{\\top} }{\\Delta x_k^{\\top} H_k \\Delta x_k}\n",
    "$$\n",
    "\n",
    "Докажите, что для метода Ньютона обладает афинной инвариантностью, т.е. если есть преобразование координат $\\tilde{f}(z) = f(x)$, где $x = Sz + s, \\;\\; s \\in \\mathbb{R}^n, S \\in \\mathbb{R}^{n \\times n}$, то будет выполняться:\n",
    "\n",
    "$$\n",
    "\\nabla \\tilde{f}(z) = S^\\top \\nabla f(x), \\qquad \\nabla^2 \\tilde{f}(z) = S^\\top \\nabla^2 f(x) S\n",
    "$$\n",
    "\n",
    "Покажите так же, что метод Ньютона и описанные выше оба квазиньютоновских метода запущенные независимо по координатам $x$ и $z$ будут работать так, что всегда будет выполняться связь $x_k = Sz_k + s$, если $x_0 = Sz_0 + s$ и инициализацией $H_0$ для метода по координате $x$ и $S^\\top H_0 S$ для координаты $z$"
   ]
  },
  {
   "cell_type": "markdown",
   "metadata": {
    "hidden": true
   },
   "source": []
  },
  {
   "cell_type": "markdown",
   "metadata": {
    "hidden": true
   },
   "source": [
    "### Newton convergence issue\n",
    "Рассмотрите следующую функцию:\n",
    "\n",
    "$$\n",
    "f(x) = \\dfrac{x^4}{4} - x^2 + 2x + (y-1)^2\n",
    "$$\n",
    "\n",
    "И точку старта $x_0 = (0,2)^\\top$. Как ведет себя метод Ньютона, запущенный с этой точки? Чем это можно объяснить? \n",
    "\n",
    "Как ведет себя градиентный спуск с фикисрованным шагом $\\alpha = 0.01$ и метод наискорейшего спуска в таких же условиях?\n",
    "(в этом задании не обязательно показывать численные симуляции)"
   ]
  },
  {
   "cell_type": "markdown",
   "metadata": {
    "hidden": true
   },
   "source": []
  },
  {
   "cell_type": "markdown",
   "metadata": {
    "hidden": true
   },
   "source": [
    "### Сравнение методов"
   ]
  },
  {
   "cell_type": "markdown",
   "metadata": {
    "hidden": true
   },
   "source": [
    "Реализуйте на языке python:\n",
    "* метод Ньютона\n",
    "* метод SR-1\n",
    "\n",
    "для минимизации следующих функций:\n",
    "* Квадратичная форма $f(x) = \\dfrac{1}{2}x^\\top A x + b^\\top x, \\quad x \\in \\mathbb{R}^n, A \\in \\mathbb{S}_+^{n \\times n}$. Попробуйте n = 2, 50, 228\n",
    "* Функция Розенброка $f(x, y) = (1-x)^2 + 100(y-x^2)^2 .\\quad$\n",
    "\n",
    "Сравните 2 реализованных Вами метода И [метод](https://docs.scipy.org/doc/scipy/reference/optimize.minimize-bfgs.html) `BFGS` из библиотеки `scipy`, а так же его модификацию [L-BFGS](https://docs.scipy.org/doc/scipy/reference/optimize.minimize-lbfgsb.html) в решении задачи минимизации описанных выше функций. точку старта необходимо инициализировать одинаковую для всех методов в рамках одного запуска. Необходимо провести не менее 10 запусков для каждого метода на каждой функции до достижения того критерия остановки, который вы выберете (например, расстояние до точки оптимума - во всех задачах мы её знаем)\n",
    "\n",
    "В качестве результата нужно заполнить следующие таблички, заполнив в них усредненное по числу запусков количество итераций, необходимых для сходимости и времени работы:\n",
    "\n",
    "Критерий остановки `________`\n",
    "\n",
    "Число запусков `_______`\n",
    "\n",
    "P.S. если в силу каких то причин Вам не удалось сделать задание полностью, попробуйте сфокусироваться хотя бы на его части.\n",
    "\n",
    "| Квадратичная форма. n = 2 | Iterations | Time |\n",
    "|:-------------------------:|:----------:|:----:|\n",
    "|           Newton          |            |      |\n",
    "|            SR-1           |            |      |\n",
    "|            BFGS           |            |      |\n",
    "|           L-BFGS          |            |      |\n",
    "\n",
    "| Квадратичная форма. n = 50 | Iterations | Time |\n",
    "|:-------------------------:|:----------:|:----:|\n",
    "|           Newton          |            |      |\n",
    "|            SR-1           |            |      |\n",
    "|            BFGS           |            |      |\n",
    "|           L-BFGS          |            |      |\n",
    "\n",
    "\n",
    "| Квадратичная форма. n = 228 | Iterations | Time |\n",
    "|:-------------------------:|:----------:|:----:|\n",
    "|           Newton          |            |      |\n",
    "|            SR-1           |            |      |\n",
    "|            BFGS           |            |      |\n",
    "|           L-BFGS          |            |      |\n",
    "\n",
    "| Функция Розенброка | Iterations | Time |\n",
    "|:-------------------------:|:----------:|:----:|\n",
    "|           Newton          |            |      |\n",
    "|            SR-1           |            |      |\n",
    "|            BFGS           |            |      |\n",
    "|           L-BFGS          |            |      |"
   ]
  },
  {
   "cell_type": "markdown",
   "metadata": {
    "heading_collapsed": true
   },
   "source": [
    "## Problem 3. Conjugate gradients"
   ]
  },
  {
   "cell_type": "markdown",
   "metadata": {
    "hidden": true
   },
   "source": [
    "Метод \n",
    "\n",
    "$\\begin{align}\n",
    "& \\mathbf{r}_0 := \\mathbf{b} - \\mathbf{A x}_0 \\\\\n",
    "& \\hbox{if } \\mathbf{r}_{0} \\text{ is sufficiently small, then return } \\mathbf{x}_{0} \\text{ as the result}\\\\\n",
    "& \\mathbf{p}_0 := \\mathbf{r}_0 \\\\\n",
    "& k := 0 \\\\\n",
    "& \\text{repeat} \\\\\n",
    "& \\qquad \\alpha_k := \\frac{\\mathbf{r}_k^\\mathsf{T} \\mathbf{r}_k}{\\mathbf{p}_k^\\mathsf{T} \\mathbf{A p}_k}  \\\\\n",
    "& \\qquad \\mathbf{x}_{k+1} := \\mathbf{x}_k + \\alpha_k \\mathbf{p}_k \\\\\n",
    "& \\qquad \\mathbf{r}_{k+1} := \\mathbf{r}_k - \\alpha_k \\mathbf{A p}_k \\\\\n",
    "& \\qquad \\hbox{if } \\mathbf{r}_{k+1} \\text{ is sufficiently small, then exit loop} \\\\\n",
    "& \\qquad \\beta_k := \\frac{\\mathbf{r}_{k+1}^\\mathsf{T} \\mathbf{r}_{k+1}}{\\mathbf{r}_k^\\mathsf{T} \\mathbf{r}_k} \\\\\n",
    "& \\qquad \\mathbf{p}_{k+1} := \\mathbf{r}_{k+1} + \\beta_k \\mathbf{p}_k \\\\\n",
    "& \\qquad k := k + 1 \\\\\n",
    "& \\text{end repeat} \\\\\n",
    "& \\text{return } \\mathbf{x}_{k+1} \\text{ as the result}\n",
    "\\end{align}$\n",
    "\n",
    "В этом задании Вам предлагается рассмотреть как влияют предобуславливатели на время работы метода сопряженных градиентов.\n",
    "\n",
    "Рассмотрим задачу наименьших квадратов:\n",
    "\n",
    "$$f(x) = \\frac{1}{2}||Ax-b||^2_2=\\frac{1}{2}\\sum\\limits_{i=1}^n(a_i^Tx-b_i)^2$$\n",
    "\n",
    "где $A\\in \\mathbb{S}^{n}_{++}$, $b \\in \\mathbb{R}^{n}$.\n",
    "\n",
    "Как мы знаем, эта задача выпукла и минимум находится из условия $\\nabla f(x^*) =Ax^*-b= 0$. То есть для решения задачи необходимо разрешить систему уравнений $Ax=b$. Можно просто применить метод сопряженных градиентов, но если матрица плохо обусловлена ($\\frac{\\lambda_{max}}{\\lambda_{min}}>>1$), метод работает  медленно (буквально, скорость сходимости CG прямо пропорциональна $\\sqrt{\\kappa(A)}$).\n",
    "\n",
    "### Preconditioning\n",
    "\n",
    "Один из способов борьбы с этим - [использование](https://stanford.edu/class/ee364b/lectures/conj_grad_slides.pdf) матриц-предобуславливателей разных видов и последующее решение другой задачи:\n",
    "\n",
    "$$M^{-1}A x = M^{-1}b$$\n",
    "\n",
    "Здесь матрица **предобуславливателя** $M$ подбирается таким образом, чтобы итоговая матрица $\\tilde{A} = M^{-1} A$ имела меньшее число обусловленности. Существует несколько довольно простых, но зачастую сильно улучшающих работу метода предоубславливателей:\n",
    "\n",
    "\n",
    "* M = diag($A_{11},A_{22}...A_{nn}$) (Jacobi)\n",
    "\n",
    "* M $\\approx \\hat A$, где например $\\hat A$ - неполная [факторизация](http://www.math.iit.edu/~fass/477577_Chapter_16.pdf) Холецкого\n",
    "\n",
    "###  Preconditioned Conjugate Gradients\n",
    "Нет никаких проблем в том, чтобы решать новую систему $\\tilde{A}x = \\tilde{b}$ методов сопряженных градиентов. Однако, нативное встраивание предобуславливателя в алгоритм, делает использование этой идеи еще более эффективной. Для этого надо детально модифицировать классический CG. Кроме того, мы потребуем положительности новой матрицы $\\tilde{A}$. Для этого будем использовать следующий вариант построения матрицы $M$:\n",
    "\n",
    "$$\n",
    "M^{-1} = LL^\\top\n",
    "$$\n",
    "\n",
    "$$\n",
    "\\begin{split}\n",
    "Ax = b &\\leftrightarrow M^{-1}Ax = M^{-1}b \\\\\n",
    "&\\leftrightarrow L^\\top Ax = L^\\top b \\\\\n",
    "&\\leftrightarrow \\underbrace{L^\\top A L}_{\\tilde{A}} \\cdot \\underbrace{L^{-1}x}_{\\tilde{x}} = \\underbrace{L^\\top b}_{\\tilde{b}}\n",
    "\\end{split}\n",
    "$$\n",
    "\n",
    "В новых переменных ($\\tilde{A}, \\tilde{x}, \\tilde{b}$) невязка запишется, как:\n",
    "\n",
    "$$\n",
    "\\tilde{r}_k = \\tilde{b} - \\tilde{A}\\tilde{x}_k = L^\\top b - (L^\\top A L)(L^{-1}x_k) = L^\\top b - L^\\top Ax_k = L^\\top r_k\n",
    "$$\n",
    "\n",
    "\n",
    "Факторизация Холецкого s.p.d. матрицы A - ее разложение на произведение нижнетреугольной и верхнетреугольной матрицы: $A = L^TL$ [wiki](https://en.wikipedia.org/wiki/Cholesky_decomposition).  Есть несколько упрощений этого алгоритма, позволяющих получить матрицу, \"похожую\" на A. Мы будем использовать следующую:  $if \\quad (a_{i,j} =0) \\rightarrow l_{i,j} = 0$, а далее по алгоритму.\n",
    "\n",
    "**Задание** Выбрать 1 задачу [отсюда](https://sparse.tamu.edu/), исследовать как влияет на скорость сходимости тот или иной предоубславливатель:\n",
    "\n",
    "1) Сравнить число итераций, за которое метод сходится с точностью $10^{-7}$ для двух предобуславливателей и для обычного метода сопряженных градиентов.\n",
    "\n",
    "2) Построить графики зависимости нормы невязки $\\|r_k\\| = \\|Ax_k - b\\|$ от номера итерации для двух предобуславливателей и для обычного метода сопряженных градиентов.\n",
    "\n",
    "Пример:\n",
    "\n",
    "![](https://pp.userapi.com/c831309/v831309597/108727/JXO7HGHv8r4.jpg)"
   ]
  },
  {
   "cell_type": "code",
   "execution_count": 115,
   "metadata": {
    "hidden": true
   },
   "outputs": [
    {
     "name": "stdout",
     "output_type": "stream",
     "text": [
      "Itr: 2217\n"
     ]
    }
   ],
   "source": [
    "import numpy as np\n",
    "\n",
    "def conjugate_grad(A, b, x=None):\n",
    "    \"\"\"\n",
    "    Description\n",
    "    -----------\n",
    "    Solve a linear equation Ax = b with conjugate gradient method.\n",
    "    Parameters\n",
    "    ----------\n",
    "    A: 2d numpy.array of positive semi-definite (symmetric) matrix\n",
    "    b: 1d numpy.array\n",
    "    x: 1d numpy.array of initial point\n",
    "    Returns\n",
    "    -------\n",
    "    list of residuals\n",
    "    \"\"\"\n",
    "    n = len(b)\n",
    "    rks = []\n",
    "    if not x:\n",
    "        x = np.ones(n)\n",
    "    r = b - A @ x\n",
    "    p = r\n",
    "    r_k_norm = r.T @ r\n",
    "    for i in range(max_iter_multiplier*n):\n",
    "        rks.append(r_k_norm/np.linalg.norm(b))\n",
    "        Ap = A @ p\n",
    "        alpha = r_k_norm / (p.T @ Ap)\n",
    "        x += alpha * p\n",
    "        r -= alpha * Ap\n",
    "        r_kplus1_norm = r.T @ r\n",
    "        beta = r_kplus1_norm / r_k_norm\n",
    "        r_k_norm = r_kplus1_norm\n",
    "        if r_kplus1_norm < 1e-5:\n",
    "            print('Itr:', i)\n",
    "            break\n",
    "        p = r + beta * p\n",
    "\n",
    "    return x, rks\n",
    "\n",
    "def preconditioned_conjugate_grad(A, b, M, x=None):\n",
    "    \"\"\"\n",
    "    Description\n",
    "    -----------\n",
    "    Solve a linear equation Ax = b with conjugate gradient method.\n",
    "    Parameters\n",
    "    ----------\n",
    "    A: 2d numpy.array of positive semi-definite (symmetric) matrix\n",
    "    M: 2d numpy.array of positive semi-definite (symmetric) matrix - preconditioner\n",
    "    b: 1d numpy.array\n",
    "    x: 1d numpy.array of initial point\n",
    "    Returns\n",
    "    -------\n",
    "    list of residuals\n",
    "    \"\"\"\n",
    "\n",
    "    return rks\n",
    "\n",
    "\n",
    "n = 1000\n",
    "P = np.random.normal(size=[n, n])\n",
    "A = np.dot(P.T, P)\n",
    "b = np.ones(n)\n",
    "\n",
    "x1, rks1 = conjugate_grad(A, b)\n",
    "M_jacobi = np.diag(1/np.diag(A))"
   ]
  },
  {
   "cell_type": "markdown",
   "metadata": {
    "hidden": true
   },
   "source": []
  },
  {
   "cell_type": "markdown",
   "metadata": {
    "heading_collapsed": true
   },
   "source": [
    "## Problem 4. Barrier methods"
   ]
  },
  {
   "cell_type": "markdown",
   "metadata": {
    "hidden": true
   },
   "source": [
    "Идея барьерных методов довольно проста: давайте заменим задачу условной оптимизации на последовательность модифицированных задач безусловной оптимизации, которая сходится к исходной. Рассмотрим простой пример такой задачи.\n",
    "\n",
    "$$\n",
    "\\begin{split}\n",
    "\\min_{x \\in \\mathbb{R}^n} & c^\\top x \\\\\n",
    "Ax & \\leq b\n",
    "\\end{split}\n",
    "$$\n",
    "\n",
    "Вместо этого предлагается рассмотреть задачу безусловной оптимизации:\n",
    "\n",
    "$$\n",
    "\\min_{x \\in \\mathbb{R}^n}  c^\\top x + \\frac{1}{t} \\sum\\limits_{i=1}^m \\left[ -\\ln\\left(-(a_i^\\top x - b_i)\\right) \\right]\n",
    "$$\n",
    "\n",
    "По сути, все ограничения типа неравенств инкорпорируются в целевую функцию как **барьерные функции** с помощью (например) логарифмического барьера $-\\ln{-h(x)}$ при $t \\to \\infty$ (см. картинку ниже)"
   ]
  },
  {
   "cell_type": "code",
   "execution_count": 56,
   "metadata": {
    "hidden": true
   },
   "outputs": [
    {
     "name": "stderr",
     "output_type": "stream",
     "text": [
      "C:\\ProgramData\\Anaconda3\\lib\\site-packages\\ipykernel_launcher.py:9: DeprecationWarning: object of type <class 'numpy.float64'> cannot be safely interpreted as an integer.\n",
      "  if __name__ == '__main__':\n",
      "C:\\ProgramData\\Anaconda3\\lib\\site-packages\\ipykernel_launcher.py:10: RuntimeWarning: divide by zero encountered in log\n",
      "  # Remove the CWD from sys.path while we load stuff.\n"
     ]
    },
    {
     "data": {
      "image/png": "[encoded data removed]",
      "text/plain": [
       "<Figure size 432x288 with 1 Axes>"
      ]
     },
     "metadata": {},
     "output_type": "display_data"
    }
   ],
   "source": [
    "import numpy as np\n",
    "from matplotlib import pyplot as plt\n",
    "import seaborn as sns\n",
    "sns.set()\n",
    "\n",
    "t = np.linspace(2,14, 4)\n",
    "\n",
    "for t_ in t:\n",
    "    x = np.linspace(-1.5,0, 20*t_)\n",
    "    y = -np.log(-x)\n",
    "    plt.plot(x,y/t_, label = f't = {t_:.2f}')\n",
    "\n",
    "plt.title(f'Log barrier function become an indicator with $t \\\\to \\infty$')\n",
    "plt.ylabel(f'$-\\ln(-h(x))$')\n",
    "plt.xlabel(f'$x$')\n",
    "plt.legend()\n",
    "plt.show()"
   ]
  },
  {
   "cell_type": "markdown",
   "metadata": {
    "hidden": true
   },
   "source": [
    "Таким образом, формируется последовательности вспомогательных задач, в которых барьерная функция практически ничего не добавляет к исходной функции, но начинает заметно штрафовать по мере приближения к границе бюджетного множества. \n",
    "\n",
    "Алгоритм можно сформулировать следующим образом:\n",
    "* $t = t_0 >0$, $x_0 \\in S$ - корректная инициализация\n",
    "\n",
    "Повторять для $\\mu > 1$ и $k = 1,2,3,\\ldots$\n",
    "\n",
    "* Шаг оптимизационного алгоритма для функции $t_k f(x_k) + \\varphi(x_k)$ $\\to x_{k+1}$\n",
    "* если $\\frac{m}{t} \\leq \\varepsilon$ - конец алгоритма\n",
    "* Увеличить $t$: $t_{k+1} = \\mu t_k$"
   ]
  },
  {
   "cell_type": "markdown",
   "metadata": {
    "hidden": true
   },
   "source": [
    "Постройте график количества итераций, необходимых для достижения $\\varepsilon = 10^{-8}$ точности для $n=50, m = 100$ в зависимости от значения параметра $\\mu$.\n",
    "\n",
    "Рассмотрите при этом метод Ньютона для целевой функции с фиксированным шагом или демпфированный метод Ньютона. (По [ссылке](https://statweb.stanford.edu/~candes/teaching/acm113/Handouts/sumt.pdf) доступен код на матлабе для решения задачи, можно в него смотреть и понять, как делать эту задачу.)\n",
    "\n",
    "Рассмотрите значения $\\mu$ в интервале $[2, 1000]$ с помощью функции `mus = np.linspace(2,1000)`"
   ]
  },
  {
   "cell_type": "code",
   "execution_count": null,
   "metadata": {
    "hidden": true
   },
   "outputs": [],
   "source": []
  }
 ],
 "metadata": {
  "kernelspec": {
   "display_name": "Python 3",
   "language": "python",
   "name": "python3"
  },
  "language_info": {
   "codemirror_mode": {
    "name": "ipython",
    "version": 3
   },
   "file_extension": ".py",
   "mimetype": "text/x-python",
   "name": "python",
   "nbconvert_exporter": "python",
   "pygments_lexer": "ipython3",
   "version": "3.7.4"
  },
  "toc": {
   "base_numbering": 1,
   "nav_menu": {},
   "number_sections": true,
   "sideBar": true,
   "skip_h1_title": false,
   "title_cell": "Table of Contents",
   "title_sidebar": "Contents",
   "toc_cell": false,
   "toc_position": {},
   "toc_section_display": true,
   "toc_window_display": false
  }
 },
 "nbformat": 4,
 "nbformat_minor": 2
}
